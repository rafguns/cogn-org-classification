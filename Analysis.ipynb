{
 "cells": [
  {
   "cell_type": "markdown",
   "metadata": {},
   "source": [
    "# A comparison of cognitive and organizational classification of publications in the Social Sciences and Humanities:<br>additional material\n",
    "\n",
    "This notebook is an accompaniment to the paper 'A comparison of cognitive and organizational classification of publications in the Social Sciences and Humanities', to be published in *Scientometrics*. It shows how the data were analyzed and the results were obtained.\n",
    "\n",
    "## Loading data\n",
    "\n",
    "First, we import the necessary modules. Next, load the data."
   ]
  },
  {
   "cell_type": "code",
   "execution_count": 1,
   "metadata": {},
   "outputs": [],
   "source": [
    "from collections import OrderedDict\n",
    "from operator import itemgetter\n",
    "\n",
    "import matplotlib.pyplot as plt\n",
    "import networkx as nx\n",
    "import numpy as np\n",
    "import pandas as pd\n",
    "import seaborn as sns\n",
    "\n",
    "from disciplines import *\n",
    "\n",
    "%matplotlib inline\n",
    "sns.set_style('ticks')"
   ]
  },
  {
   "cell_type": "code",
   "execution_count": 2,
   "metadata": {},
   "outputs": [
    {
     "name": "stderr",
     "output_type": "stream",
     "text": [
      "C:\\Anaconda3\\lib\\site-packages\\IPython\\core\\interactiveshell.py:2698: DtypeWarning: Columns (4,5) have mixed types. Specify dtype option on import or set low_memory=False.\n",
      "  interactivity=interactivity, compiler=compiler, result=result)\n"
     ]
    }
   ],
   "source": [
    "df = pd.read_csv('data/data.csv')"
   ]
  },
  {
   "cell_type": "code",
   "execution_count": 3,
   "metadata": {},
   "outputs": [
    {
     "data": {
      "text/plain": [
       "76076"
      ]
     },
     "execution_count": 3,
     "metadata": {},
     "output_type": "execute_result"
    }
   ],
   "source": [
    "# Number of publications\n",
    "len(df)"
   ]
  },
  {
   "cell_type": "markdown",
   "metadata": {},
   "source": [
    "Table 1:"
   ]
  },
  {
   "cell_type": "code",
   "execution_count": 4,
   "metadata": {},
   "outputs": [
    {
     "data": {
      "text/plain": [
       "VABB-publicatietype  infogpstd\n",
       "VABB-1               gp           27749\n",
       "                     wos          30569\n",
       "VABB-2               gp            1199\n",
       "VABB-3               gp            2057\n",
       "VABB-4               gp           11799\n",
       "VABB-5               gp            1380\n",
       "                     wos           1323\n",
       "dtype: int64"
      ]
     },
     "execution_count": 4,
     "metadata": {},
     "output_type": "execute_result"
    }
   ],
   "source": [
    "df.groupby(['VABB-publicatietype', 'infogpstd']).size()"
   ]
  },
  {
   "cell_type": "markdown",
   "metadata": {},
   "source": [
    "Now we create three tables:\n",
    "1. `fosdf`: FOS fields per publication\n",
    "2. `vabbdf`: VABB disciplines per publication\n",
    "3. `vabbdf_specific`: VABB disciplines per publication, excluding *Social sciences general* and *Humanities general*"
   ]
  },
  {
   "cell_type": "code",
   "execution_count": 5,
   "metadata": {
    "collapsed": true
   },
   "outputs": [],
   "source": [
    "fosdf = pivot_discipline_cols(df, [col for col in df.columns if col.startswith('FOS')])"
   ]
  },
  {
   "cell_type": "code",
   "execution_count": 6,
   "metadata": {
    "collapsed": true
   },
   "outputs": [],
   "source": [
    "vabbdf = df[vabb_discipline_names]\n",
    "vabbdf_specific = df[vabb_discipline_names_specific]"
   ]
  },
  {
   "cell_type": "markdown",
   "metadata": {},
   "source": [
    "Table 3:"
   ]
  },
  {
   "cell_type": "code",
   "execution_count": 7,
   "metadata": {},
   "outputs": [
    {
     "data": {
      "text/html": [
       "<div>\n",
       "<style>\n",
       "    .dataframe thead tr:only-child th {\n",
       "        text-align: right;\n",
       "    }\n",
       "\n",
       "    .dataframe thead th {\n",
       "        text-align: left;\n",
       "    }\n",
       "\n",
       "    .dataframe tbody tr th {\n",
       "        vertical-align: top;\n",
       "    }\n",
       "</style>\n",
       "<table border=\"1\" class=\"dataframe\">\n",
       "  <thead>\n",
       "    <tr style=\"text-align: right;\">\n",
       "      <th>vabb</th>\n",
       "      <th>1</th>\n",
       "      <th>2</th>\n",
       "      <th>3</th>\n",
       "      <th>4</th>\n",
       "      <th>5</th>\n",
       "      <th>6</th>\n",
       "      <th>7</th>\n",
       "      <th>8</th>\n",
       "    </tr>\n",
       "    <tr>\n",
       "      <th>fos</th>\n",
       "      <th></th>\n",
       "      <th></th>\n",
       "      <th></th>\n",
       "      <th></th>\n",
       "      <th></th>\n",
       "      <th></th>\n",
       "      <th></th>\n",
       "      <th></th>\n",
       "    </tr>\n",
       "  </thead>\n",
       "  <tbody>\n",
       "    <tr>\n",
       "      <th>1</th>\n",
       "      <td>53568</td>\n",
       "      <td>12809</td>\n",
       "      <td>2887</td>\n",
       "      <td>717</td>\n",
       "      <td>120</td>\n",
       "      <td>19</td>\n",
       "      <td>5</td>\n",
       "      <td>0</td>\n",
       "    </tr>\n",
       "    <tr>\n",
       "      <th>2</th>\n",
       "      <td>3804</td>\n",
       "      <td>1035</td>\n",
       "      <td>240</td>\n",
       "      <td>120</td>\n",
       "      <td>8</td>\n",
       "      <td>0</td>\n",
       "      <td>0</td>\n",
       "      <td>1</td>\n",
       "    </tr>\n",
       "    <tr>\n",
       "      <th>3</th>\n",
       "      <td>425</td>\n",
       "      <td>125</td>\n",
       "      <td>23</td>\n",
       "      <td>3</td>\n",
       "      <td>1</td>\n",
       "      <td>0</td>\n",
       "      <td>0</td>\n",
       "      <td>0</td>\n",
       "    </tr>\n",
       "    <tr>\n",
       "      <th>4</th>\n",
       "      <td>109</td>\n",
       "      <td>37</td>\n",
       "      <td>8</td>\n",
       "      <td>2</td>\n",
       "      <td>1</td>\n",
       "      <td>0</td>\n",
       "      <td>0</td>\n",
       "      <td>0</td>\n",
       "    </tr>\n",
       "    <tr>\n",
       "      <th>5</th>\n",
       "      <td>7</td>\n",
       "      <td>1</td>\n",
       "      <td>1</td>\n",
       "      <td>0</td>\n",
       "      <td>0</td>\n",
       "      <td>0</td>\n",
       "      <td>0</td>\n",
       "      <td>0</td>\n",
       "    </tr>\n",
       "  </tbody>\n",
       "</table>\n",
       "</div>"
      ],
      "text/plain": [
       "vabb      1      2     3    4    5   6  7  8\n",
       "fos                                         \n",
       "1     53568  12809  2887  717  120  19  5  0\n",
       "2      3804   1035   240  120    8   0  0  1\n",
       "3       425    125    23    3    1   0  0  0\n",
       "4       109     37     8    2    1   0  0  0\n",
       "5         7      1     1    0    0   0  0  0"
      ]
     },
     "execution_count": 7,
     "metadata": {},
     "output_type": "execute_result"
    }
   ],
   "source": [
    "fos_count = fosdf.sum(axis=1).astype(int)\n",
    "vabb_count = vabbdf.sum(axis=1).astype(int)\n",
    "\n",
    "counts = pd.DataFrame({\n",
    "    'fos': fos_count,\n",
    "    'vabb': vabb_count,\n",
    "})\n",
    "\n",
    "counts.groupby(['fos', 'vabb']).size().unstack().fillna(0).astype(int)"
   ]
  },
  {
   "cell_type": "markdown",
   "metadata": {},
   "source": [
    "Use labels instead of numbers for FOS disciplines:"
   ]
  },
  {
   "cell_type": "code",
   "execution_count": 8,
   "metadata": {
    "collapsed": true
   },
   "outputs": [],
   "source": [
    "col_renamer = {num: name for num, name, _ in fos_disciplines}\n",
    "fosdf = (fosdf.reindex(columns=[num for num, _, level in fos_disciplines if level != 1])\n",
    "              .rename(columns=col_renamer))"
   ]
  },
  {
   "cell_type": "markdown",
   "metadata": {},
   "source": [
    "## Networks"
   ]
  },
  {
   "cell_type": "markdown",
   "metadata": {},
   "source": [
    "These networks show co-occurrences between VABB disciplines and between FOS fields. They can be visualized in [VOSviewer](http://www.vosviewer.com). In VOSviewer, choose `Create... > Create a map based on network data`, pick  the tab labeled `Pajek`, and fill in the locations of the network file, partiton file, and vector file.\n",
    "\n",
    "First, we have two functions that are used to write a Pajek partition file and a Pajek vector file."
   ]
  },
  {
   "cell_type": "code",
   "execution_count": 9,
   "metadata": {},
   "outputs": [],
   "source": [
    "def write_clu(G, fname, node_clusters):\n",
    "    '''Write Pajek partition file'''\n",
    "    # Translate cluster names to numbers\n",
    "    cluster_names = set(node_clusters.values())\n",
    "    cluster_numbers = dict(zip(cluster_names, range(1, len(cluster_names) + 1)))\n",
    "    # dict: node -> cluster number\n",
    "    node_cluster_numbers = {k: cluster_numbers[v] for k, v in node_clusters.items()}\n",
    "    \n",
    "    with open(fname, 'w') as fh:\n",
    "        fh.write('*Vertices {}\\n'.format(len(G)))\n",
    "        for n in G:\n",
    "            fh.write('{}\\n'.format(node_cluster_numbers[n]))\n",
    "            \n",
    "\n",
    "def write_vec(G, fname, node_sizes):\n",
    "    '''Write Pajek vector file'''\n",
    "    with open(fname, 'w') as fh:\n",
    "        fh.write('*Vertices {}\\n'.format(len(G)))\n",
    "        for n in G:\n",
    "            fh.write('{}\\n'.format(node_sizes[n]))"
   ]
  },
  {
   "cell_type": "code",
   "execution_count": 10,
   "metadata": {},
   "outputs": [
    {
     "ename": "FileNotFoundError",
     "evalue": "[Errno 2] No such file or directory: 'output/vabb.net'",
     "output_type": "error",
     "traceback": [
      "\u001b[1;31m---------------------------------------------------------------------------\u001b[0m",
      "\u001b[1;31mFileNotFoundError\u001b[0m                         Traceback (most recent call last)",
      "\u001b[1;32m<ipython-input-10-9a2785e2a15d>\u001b[0m in \u001b[0;36m<module>\u001b[1;34m()\u001b[0m\n\u001b[0;32m      2\u001b[0m \u001b[0mc\u001b[0m \u001b[1;33m=\u001b[0m \u001b[0mvabbdf\u001b[0m\u001b[1;33m.\u001b[0m\u001b[0mT\u001b[0m\u001b[1;33m.\u001b[0m\u001b[0mdot\u001b[0m\u001b[1;33m(\u001b[0m\u001b[0mvabbdf\u001b[0m\u001b[1;33m)\u001b[0m\u001b[1;33m\u001b[0m\u001b[0m\n\u001b[0;32m      3\u001b[0m \u001b[0mG\u001b[0m \u001b[1;33m=\u001b[0m \u001b[0mnx\u001b[0m\u001b[1;33m.\u001b[0m\u001b[0mfrom_pandas_adjacency\u001b[0m\u001b[1;33m(\u001b[0m\u001b[0mc\u001b[0m\u001b[1;33m)\u001b[0m\u001b[1;33m\u001b[0m\u001b[0m\n\u001b[1;32m----> 4\u001b[1;33m \u001b[0mnx\u001b[0m\u001b[1;33m.\u001b[0m\u001b[0mwrite_pajek\u001b[0m\u001b[1;33m(\u001b[0m\u001b[0mG\u001b[0m\u001b[1;33m,\u001b[0m \u001b[1;34m'output/vabb.net'\u001b[0m\u001b[1;33m)\u001b[0m\u001b[1;33m\u001b[0m\u001b[0m\n\u001b[0m\u001b[0;32m      5\u001b[0m \u001b[1;33m\u001b[0m\u001b[0m\n\u001b[0;32m      6\u001b[0m \u001b[1;31m# Write partition\u001b[0m\u001b[1;33m\u001b[0m\u001b[1;33m\u001b[0m\u001b[0m\n",
      "\u001b[1;32m<decorator-gen-481>\u001b[0m in \u001b[0;36mwrite_pajek\u001b[1;34m(G, path, encoding)\u001b[0m\n",
      "\u001b[1;32mC:\\Anaconda3\\lib\\site-packages\\networkx\\utils\\decorators.py\u001b[0m in \u001b[0;36m_open_file\u001b[1;34m(func, *args, **kwargs)\u001b[0m\n\u001b[0;32m    200\u001b[0m         \u001b[1;32mif\u001b[0m \u001b[0mis_string_like\u001b[0m\u001b[1;33m(\u001b[0m\u001b[0mpath\u001b[0m\u001b[1;33m)\u001b[0m\u001b[1;33m:\u001b[0m\u001b[1;33m\u001b[0m\u001b[0m\n\u001b[0;32m    201\u001b[0m             \u001b[0mext\u001b[0m \u001b[1;33m=\u001b[0m \u001b[0msplitext\u001b[0m\u001b[1;33m(\u001b[0m\u001b[0mpath\u001b[0m\u001b[1;33m)\u001b[0m\u001b[1;33m[\u001b[0m\u001b[1;36m1\u001b[0m\u001b[1;33m]\u001b[0m\u001b[1;33m\u001b[0m\u001b[0m\n\u001b[1;32m--> 202\u001b[1;33m             \u001b[0mfobj\u001b[0m \u001b[1;33m=\u001b[0m \u001b[0m_dispatch_dict\u001b[0m\u001b[1;33m[\u001b[0m\u001b[0mext\u001b[0m\u001b[1;33m]\u001b[0m\u001b[1;33m(\u001b[0m\u001b[0mpath\u001b[0m\u001b[1;33m,\u001b[0m \u001b[0mmode\u001b[0m\u001b[1;33m=\u001b[0m\u001b[0mmode\u001b[0m\u001b[1;33m)\u001b[0m\u001b[1;33m\u001b[0m\u001b[0m\n\u001b[0m\u001b[0;32m    203\u001b[0m             \u001b[0mclose_fobj\u001b[0m \u001b[1;33m=\u001b[0m \u001b[1;32mTrue\u001b[0m\u001b[1;33m\u001b[0m\u001b[0m\n\u001b[0;32m    204\u001b[0m         \u001b[1;32melif\u001b[0m \u001b[0mhasattr\u001b[0m\u001b[1;33m(\u001b[0m\u001b[0mpath\u001b[0m\u001b[1;33m,\u001b[0m \u001b[1;34m'read'\u001b[0m\u001b[1;33m)\u001b[0m\u001b[1;33m:\u001b[0m\u001b[1;33m\u001b[0m\u001b[0m\n",
      "\u001b[1;31mFileNotFoundError\u001b[0m: [Errno 2] No such file or directory: 'output/vabb.net'"
     ]
    }
   ],
   "source": [
    "vabbdf = vabbdf.fillna(0)\n",
    "c = vabbdf.T.dot(vabbdf)\n",
    "G = nx.from_pandas_adjacency(c)\n",
    "nx.write_pajek(G, 'maps/vabb.net')\n",
    "\n",
    "# Write partition\n",
    "d = dict.fromkeys(vabb_discipline_names_socsci, 'Social sciences')\n",
    "d.update(dict.fromkeys(vabb_discipline_names_hum, 'Humanities'))\n",
    "write_clu(G, 'maps/vabb.clu', d)\n",
    "\n",
    "# Write vector\n",
    "write_vec(G, 'maps/vabb.vec', vabbdf.sum().to_dict())"
   ]
  },
  {
   "cell_type": "code",
   "execution_count": null,
   "metadata": {
    "collapsed": true
   },
   "outputs": [],
   "source": [
    "fosdf = fosdf.fillna(0)\n",
    "c = fosdf.T.dot(fosdf)\n",
    "G = nx.from_pandas_adjacency(c)\n",
    "nx.write_pajek(G, 'maps/fos.net')\n",
    "\n",
    "# Write partition\n",
    "d  = {}\n",
    "for num, name, level in fos_disciplines:\n",
    "    if level == 1:\n",
    "        current_top_level = name\n",
    "    else:\n",
    "        d[name] = current_top_level\n",
    "write_clu(G, 'maps/fos.clu', d)\n",
    "\n",
    "# Write vector\n",
    "write_vec(G, 'maps/fos.vec', fosdf.sum().to_dict())"
   ]
  },
  {
   "cell_type": "markdown",
   "metadata": {},
   "source": [
    "## Cooccurrences between cognitive and organizational classification\n",
    "\n",
    "### At aggregated level"
   ]
  },
  {
   "cell_type": "markdown",
   "metadata": {},
   "source": [
    "Build a DataFrame `top_fosdf` of top-level FOS field(s) per publication"
   ]
  },
  {
   "cell_type": "code",
   "execution_count": null,
   "metadata": {
    "collapsed": true
   },
   "outputs": [],
   "source": [
    "agg_fos = OrderedDict()\n",
    "for num, name, level in fos_disciplines:\n",
    "    if level == 1:\n",
    "        current_list = []\n",
    "        agg_fos[name] = current_list\n",
    "    else:\n",
    "        current_list.append(name)\n",
    "\n",
    "top_fosdf = pd.DataFrame()\n",
    "for k, v in agg_fos.items():\n",
    "    top_fosdf[k] = (fosdf[v] == 1).any(axis=1).astype(int)"
   ]
  },
  {
   "cell_type": "markdown",
   "metadata": {},
   "source": [
    "Build a DataFrame `top_vabbdf` of publications to top-level VABB disicplines (i.e., *Social sciences* and *Humanities*):"
   ]
  },
  {
   "cell_type": "code",
   "execution_count": null,
   "metadata": {},
   "outputs": [],
   "source": [
    "agg_vabb = OrderedDict()\n",
    "agg_vabb['Social sciences'] = vabb_discipline_names_socsci\n",
    "agg_vabb['Humanities'] = vabb_discipline_names_hum\n",
    "\n",
    "top_vabbdf = pd.DataFrame()\n",
    "for k, v in agg_vabb.items():\n",
    "    top_vabbdf[k] = (vabbdf[v] == 1).any(axis=1).astype(int)"
   ]
  },
  {
   "cell_type": "markdown",
   "metadata": {},
   "source": [
    "Figure 3:"
   ]
  },
  {
   "cell_type": "code",
   "execution_count": null,
   "metadata": {},
   "outputs": [],
   "source": [
    "coocc_agg = make_coocc_table(top_vabbdf, top_fosdf)\n",
    "coocc_agg = normalize_coocc_table(coocc_agg)\n",
    "fig, ax = plot_heatmap(coocc_agg, annot=True, figsize=(12.5, 3.5), fmt='.2f', cbar=False)\n",
    "plt.yticks(rotation=0)\n",
    "plt.xticks(rotation=0)\n",
    "plt.tight_layout()"
   ]
  },
  {
   "cell_type": "markdown",
   "metadata": {},
   "source": [
    "### At second level of fields"
   ]
  },
  {
   "cell_type": "markdown",
   "metadata": {},
   "source": [
    "We start from the table without *Social sciences general* and *Humanities general*. Number of publications underlying this figure:"
   ]
  },
  {
   "cell_type": "code",
   "execution_count": null,
   "metadata": {},
   "outputs": [],
   "source": [
    "len(vabbdf_specific[vabbdf_specific.sum(axis=1) > 0])"
   ]
  },
  {
   "cell_type": "code",
   "execution_count": null,
   "metadata": {},
   "outputs": [],
   "source": [
    "coocc = make_coocc_table(vabbdf_specific, fosdf)\n",
    "coocc_norm = normalize_coocc_table(coocc)"
   ]
  },
  {
   "cell_type": "markdown",
   "metadata": {},
   "source": [
    "Figure 4:"
   ]
  },
  {
   "cell_type": "code",
   "execution_count": null,
   "metadata": {},
   "outputs": [],
   "source": [
    "fig, ax = plot_heatmap(coocc_norm, figsize=(14, 7),\n",
    "                       cmap=sns.cubehelix_palette(light=.95, as_cmap=True))"
   ]
  },
  {
   "cell_type": "markdown",
   "metadata": {},
   "source": [
    "Let's see how strong the correspondence is between each VABB discipline and closest corresponding FOS field."
   ]
  },
  {
   "cell_type": "code",
   "execution_count": null,
   "metadata": {
    "collapsed": true
   },
   "outputs": [],
   "source": [
    "mapping = {\n",
    "    # VABB: FOS\n",
    "    'Social health sciences': 'Health sciences',\n",
    "    'Psychology': 'Psychology',\n",
    "    'Economics & business': 'Economics and business',\n",
    "    'Educational sciences': 'Educational sciences',\n",
    "    'Sociology': 'Sociology',\n",
    "    'Law': 'Law',\n",
    "    'Criminology': 'Law',\n",
    "    'Political sciences': 'Political science',\n",
    "    'Communication studies': 'Media and communications',\n",
    "    'History': 'History',\n",
    "    'Archaeology': 'Archaeology',\n",
    "    'Linguistics': 'Languages and linguistics',\n",
    "    'Literature': 'Literature',\n",
    "    'Philosophy': 'Philosophy and ethics',\n",
    "    'Theology': 'Religion',\n",
    "    'History of arts': 'Arts',\n",
    "}"
   ]
  },
  {
   "cell_type": "code",
   "execution_count": null,
   "metadata": {},
   "outputs": [],
   "source": [
    "correspondence = {k: coocc_norm.loc[k, v] for k, v in mapping.items()}\n",
    "for k, v in sorted(correspondence.items(), key=itemgetter(1), reverse=True):\n",
    "    print('{}: {:.1f}%'.format(k, v * 100))"
   ]
  },
  {
   "cell_type": "markdown",
   "metadata": {},
   "source": [
    "## Influence of collaboration and FOS multi-assignment"
   ]
  },
  {
   "cell_type": "markdown",
   "metadata": {},
   "source": [
    "Visualize the difference to the original table: increases are in red and decreases in blue. The intensity of the color indicates the strength of increase or decrease.\n",
    "\n",
    "Figure 5:"
   ]
  },
  {
   "cell_type": "code",
   "execution_count": null,
   "metadata": {},
   "outputs": [],
   "source": [
    "# Index of single-assignment publications\n",
    "idx = df[(vabbdf.sum(axis=1) == 1) & (fosdf.sum(axis=1) == 1)].index\n",
    "\n",
    "coocc_single_assignment = make_coocc_table(vabbdf_specific.loc[idx], fosdf.loc[idx])\n",
    "coocc_single_assignment_norm = normalize_coocc_table(coocc_single_assignment)\n",
    "single_assignment_diff = coocc_single_assignment_norm - coocc_norm\n",
    "\n",
    "fig, ax = plot_heatmap(single_assignment_diff, center=0, cmap='bwr')\n",
    "ax.set_xlabel('')"
   ]
  },
  {
   "cell_type": "markdown",
   "metadata": {},
   "source": [
    "Single assignment at aggregate level:"
   ]
  },
  {
   "cell_type": "code",
   "execution_count": null,
   "metadata": {},
   "outputs": [],
   "source": [
    "coocc_single_assignment_agg = make_coocc_table(top_vabbdf.loc[idx], top_fosdf.loc[idx])\n",
    "normalize_coocc_table(coocc_single_assignment_agg)"
   ]
  },
  {
   "cell_type": "markdown",
   "metadata": {},
   "source": [
    "Strongest increase:"
   ]
  },
  {
   "cell_type": "code",
   "execution_count": null,
   "metadata": {},
   "outputs": [],
   "source": [
    "single_assignment_diff.max(axis=1).sort_values()[-1:]"
   ]
  },
  {
   "cell_type": "markdown",
   "metadata": {},
   "source": [
    "## Gini inequality index"
   ]
  },
  {
   "cell_type": "code",
   "execution_count": null,
   "metadata": {},
   "outputs": [],
   "source": [
    "def gini(x):\n",
    "    # Source: https://stackoverflow.com/questions/39512260#39513799\n",
    "    # (Warning: This is a concise implementation, but it is O(n**2)\n",
    "    # in time and memory, where n = len(x).  *Don't* pass in huge\n",
    "    # samples!)\n",
    "    mad = np.abs(np.subtract.outer(x, x)).mean()\n",
    "    rmad = mad / np.mean(x)\n",
    "    \n",
    "    return 0.5 * rmad"
   ]
  },
  {
   "cell_type": "markdown",
   "metadata": {},
   "source": [
    "Table 4:"
   ]
  },
  {
   "cell_type": "code",
   "execution_count": null,
   "metadata": {},
   "outputs": [],
   "source": [
    "pd.DataFrame({\n",
    "    'Gini (all pubs)': coocc_norm.apply(gini, axis=1),\n",
    "    'Gini (single-assignment)': coocc_single_assignment_norm.apply(gini, axis=1),\n",
    "}).sort_values(ascending=False, by='Gini (all pubs)')\n"
   ]
  },
  {
   "cell_type": "markdown",
   "metadata": {},
   "source": [
    "Gini index for aggregated VABB disciplines *Social sciences* and *Humanities*:"
   ]
  },
  {
   "cell_type": "code",
   "execution_count": null,
   "metadata": {},
   "outputs": [],
   "source": [
    "coocc_agg.apply(gini, axis=1)"
   ]
  },
  {
   "cell_type": "code",
   "execution_count": null,
   "metadata": {},
   "outputs": [],
   "source": []
  }
 ],
 "metadata": {
  "anaconda-cloud": {},
  "kernelspec": {
   "display_name": "Python [conda env:Anaconda3]",
   "language": "python",
   "name": "conda-env-Anaconda3-py"
  },
  "language_info": {
   "codemirror_mode": {
    "name": "ipython",
    "version": 3
   },
   "file_extension": ".py",
   "mimetype": "text/x-python",
   "name": "python",
   "nbconvert_exporter": "python",
   "pygments_lexer": "ipython3",
   "version": "3.6.3"
  }
 },
 "nbformat": 4,
 "nbformat_minor": 2
}
